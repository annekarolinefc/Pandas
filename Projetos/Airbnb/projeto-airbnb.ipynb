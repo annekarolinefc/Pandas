{
 "cells": [
  {
   "attachments": {},
   "cell_type": "markdown",
   "metadata": {},
   "source": [
    "# Análise dos Dados do Airbnb - Rio de Janeiro"
   ]
  },
  {
   "attachments": {},
   "cell_type": "markdown",
   "metadata": {},
   "source": [
    "O Airbnb disponibiliza seus dados do site, para algumas das principais cidades do mundo. \n",
    "Por meio do portal [Inside Airbnb](http://insideairbnb.com/get-the-data/), é possível baixar uma grande quantidade de dados para desenvolver projetos."
   ]
  },
  {
   "attachments": {},
   "cell_type": "markdown",
   "metadata": {},
   "source": [
    "Neste projeto irei analisar dados da cidade X e visualizar insights que podem ser extraídos a partir dos dados brutos."
   ]
  },
  {
   "attachments": {},
   "cell_type": "markdown",
   "metadata": {},
   "source": [
    "## Obtenção dos dados"
   ]
  },
  {
   "attachments": {},
   "cell_type": "markdown",
   "metadata": {},
   "source": [
    "Os dados foram obtidos a partir do site do Airbnb.\n",
    "O arquivo utilizado foi o listings.csv.gz, referente à cidade do Rio de Janeiro. [Acesse aqui](http://insideairbnb.com/get-the-data/)"
   ]
  },
  {
   "cell_type": "code",
   "execution_count": 8,
   "metadata": {},
   "outputs": [],
   "source": [
    "import pandas as pd\n",
    "# importar o arquivo listings.csv para um DataFrame\n",
    "df = pd.read_csv(\"http://data.insideairbnb.com/brazil/rj/rio-de-janeiro/2023-03-28/data/listings.csv.gz\")"
   ]
  },
  {
   "cell_type": "code",
   "execution_count": 10,
   "metadata": {},
   "outputs": [
    {
     "data": {
      "text/html": [
       "<div>\n",
       "<style scoped>\n",
       "    .dataframe tbody tr th:only-of-type {\n",
       "        vertical-align: middle;\n",
       "    }\n",
       "\n",
       "    .dataframe tbody tr th {\n",
       "        vertical-align: top;\n",
       "    }\n",
       "\n",
       "    .dataframe thead th {\n",
       "        text-align: right;\n",
       "    }\n",
       "</style>\n",
       "<table border=\"1\" class=\"dataframe\">\n",
       "  <thead>\n",
       "    <tr style=\"text-align: right;\">\n",
       "      <th></th>\n",
       "      <th>id</th>\n",
       "      <th>listing_url</th>\n",
       "      <th>scrape_id</th>\n",
       "      <th>last_scraped</th>\n",
       "      <th>source</th>\n",
       "      <th>name</th>\n",
       "      <th>description</th>\n",
       "      <th>neighborhood_overview</th>\n",
       "      <th>picture_url</th>\n",
       "      <th>host_id</th>\n",
       "      <th>...</th>\n",
       "      <th>review_scores_communication</th>\n",
       "      <th>review_scores_location</th>\n",
       "      <th>review_scores_value</th>\n",
       "      <th>license</th>\n",
       "      <th>instant_bookable</th>\n",
       "      <th>calculated_host_listings_count</th>\n",
       "      <th>calculated_host_listings_count_entire_homes</th>\n",
       "      <th>calculated_host_listings_count_private_rooms</th>\n",
       "      <th>calculated_host_listings_count_shared_rooms</th>\n",
       "      <th>reviews_per_month</th>\n",
       "    </tr>\n",
       "  </thead>\n",
       "  <tbody>\n",
       "    <tr>\n",
       "      <th>0</th>\n",
       "      <td>17878</td>\n",
       "      <td>https://www.airbnb.com/rooms/17878</td>\n",
       "      <td>20230328184454</td>\n",
       "      <td>2023-03-29</td>\n",
       "      <td>city scrape</td>\n",
       "      <td>Very Nice 2Br in Copacabana w. balcony, fast WiFi</td>\n",
       "      <td>Please note that elevated rates applies for Ne...</td>\n",
       "      <td>This is the one of the bests spots in Rio. Bec...</td>\n",
       "      <td>https://a0.muscache.com/pictures/65320518/3069...</td>\n",
       "      <td>68997</td>\n",
       "      <td>...</td>\n",
       "      <td>4.90</td>\n",
       "      <td>4.77</td>\n",
       "      <td>4.65</td>\n",
       "      <td>NaN</td>\n",
       "      <td>f</td>\n",
       "      <td>1</td>\n",
       "      <td>1</td>\n",
       "      <td>0</td>\n",
       "      <td>0</td>\n",
       "      <td>1.86</td>\n",
       "    </tr>\n",
       "    <tr>\n",
       "      <th>1</th>\n",
       "      <td>200568</td>\n",
       "      <td>https://www.airbnb.com/rooms/200568</td>\n",
       "      <td>20230328184454</td>\n",
       "      <td>2023-03-29</td>\n",
       "      <td>city scrape</td>\n",
       "      <td>30m of Ipa Beach e fins de semana special price !</td>\n",
       "      <td>ATENÇÃO, a eletricidade e gás são pagas pelo h...</td>\n",
       "      <td>Praia, restaurantes, boates, centros culturais...</td>\n",
       "      <td>https://a0.muscache.com/pictures/0586b774-3641...</td>\n",
       "      <td>980805</td>\n",
       "      <td>...</td>\n",
       "      <td>4.97</td>\n",
       "      <td>4.95</td>\n",
       "      <td>4.73</td>\n",
       "      <td>NaN</td>\n",
       "      <td>f</td>\n",
       "      <td>6</td>\n",
       "      <td>4</td>\n",
       "      <td>2</td>\n",
       "      <td>0</td>\n",
       "      <td>1.45</td>\n",
       "    </tr>\n",
       "    <tr>\n",
       "      <th>2</th>\n",
       "      <td>202778</td>\n",
       "      <td>https://www.airbnb.com/rooms/202778</td>\n",
       "      <td>20230328184454</td>\n",
       "      <td>2023-03-29</td>\n",
       "      <td>city scrape</td>\n",
       "      <td>Best Studio in Rio - Copacabana</td>\n",
       "      <td>If you looking to staying in a beautiful moder...</td>\n",
       "      <td>Besides Copacabana been the most famous touris...</td>\n",
       "      <td>https://a0.muscache.com/pictures/2015102/18eea...</td>\n",
       "      <td>529105</td>\n",
       "      <td>...</td>\n",
       "      <td>4.94</td>\n",
       "      <td>4.85</td>\n",
       "      <td>4.68</td>\n",
       "      <td>NaN</td>\n",
       "      <td>f</td>\n",
       "      <td>3</td>\n",
       "      <td>3</td>\n",
       "      <td>0</td>\n",
       "      <td>0</td>\n",
       "      <td>1.58</td>\n",
       "    </tr>\n",
       "    <tr>\n",
       "      <th>3</th>\n",
       "      <td>24480</td>\n",
       "      <td>https://www.airbnb.com/rooms/24480</td>\n",
       "      <td>20230328184454</td>\n",
       "      <td>2023-03-29</td>\n",
       "      <td>city scrape</td>\n",
       "      <td>Nice and cozy near Ipanema Beach, w/ home office</td>\n",
       "      <td>My studio is located in the best of Ipanema, t...</td>\n",
       "      <td>The beach, the lagoon, Ipanema is a great loca...</td>\n",
       "      <td>https://a0.muscache.com/pictures/miso/Hosting-...</td>\n",
       "      <td>99249</td>\n",
       "      <td>...</td>\n",
       "      <td>4.90</td>\n",
       "      <td>4.97</td>\n",
       "      <td>4.56</td>\n",
       "      <td>NaN</td>\n",
       "      <td>f</td>\n",
       "      <td>3</td>\n",
       "      <td>3</td>\n",
       "      <td>0</td>\n",
       "      <td>0</td>\n",
       "      <td>0.56</td>\n",
       "    </tr>\n",
       "    <tr>\n",
       "      <th>4</th>\n",
       "      <td>203674</td>\n",
       "      <td>https://www.airbnb.com/rooms/203674</td>\n",
       "      <td>20230328184454</td>\n",
       "      <td>2023-03-29</td>\n",
       "      <td>city scrape</td>\n",
       "      <td>IPANEMA PENTHOUSE,JACUZZI + STUNNING CRISTO VI...</td>\n",
       "      <td>RETRO CHIC IN A TRULY BREATHTAKING SETTING!&lt;br...</td>\n",
       "      <td>Ipanema is almost like a small kingdom set apa...</td>\n",
       "      <td>https://a0.muscache.com/pictures/2421b3ee-0f2e...</td>\n",
       "      <td>999125</td>\n",
       "      <td>...</td>\n",
       "      <td>4.91</td>\n",
       "      <td>4.95</td>\n",
       "      <td>4.44</td>\n",
       "      <td>NaN</td>\n",
       "      <td>f</td>\n",
       "      <td>1</td>\n",
       "      <td>1</td>\n",
       "      <td>0</td>\n",
       "      <td>0</td>\n",
       "      <td>0.36</td>\n",
       "    </tr>\n",
       "  </tbody>\n",
       "</table>\n",
       "<p>5 rows × 75 columns</p>\n",
       "</div>"
      ],
      "text/plain": [
       "       id                          listing_url       scrape_id last_scraped  \\\n",
       "0   17878   https://www.airbnb.com/rooms/17878  20230328184454   2023-03-29   \n",
       "1  200568  https://www.airbnb.com/rooms/200568  20230328184454   2023-03-29   \n",
       "2  202778  https://www.airbnb.com/rooms/202778  20230328184454   2023-03-29   \n",
       "3   24480   https://www.airbnb.com/rooms/24480  20230328184454   2023-03-29   \n",
       "4  203674  https://www.airbnb.com/rooms/203674  20230328184454   2023-03-29   \n",
       "\n",
       "        source                                               name  \\\n",
       "0  city scrape  Very Nice 2Br in Copacabana w. balcony, fast WiFi   \n",
       "1  city scrape  30m of Ipa Beach e fins de semana special price !   \n",
       "2  city scrape                    Best Studio in Rio - Copacabana   \n",
       "3  city scrape   Nice and cozy near Ipanema Beach, w/ home office   \n",
       "4  city scrape  IPANEMA PENTHOUSE,JACUZZI + STUNNING CRISTO VI...   \n",
       "\n",
       "                                         description  \\\n",
       "0  Please note that elevated rates applies for Ne...   \n",
       "1  ATENÇÃO, a eletricidade e gás são pagas pelo h...   \n",
       "2  If you looking to staying in a beautiful moder...   \n",
       "3  My studio is located in the best of Ipanema, t...   \n",
       "4  RETRO CHIC IN A TRULY BREATHTAKING SETTING!<br...   \n",
       "\n",
       "                               neighborhood_overview  \\\n",
       "0  This is the one of the bests spots in Rio. Bec...   \n",
       "1  Praia, restaurantes, boates, centros culturais...   \n",
       "2  Besides Copacabana been the most famous touris...   \n",
       "3  The beach, the lagoon, Ipanema is a great loca...   \n",
       "4  Ipanema is almost like a small kingdom set apa...   \n",
       "\n",
       "                                         picture_url  host_id  ...  \\\n",
       "0  https://a0.muscache.com/pictures/65320518/3069...    68997  ...   \n",
       "1  https://a0.muscache.com/pictures/0586b774-3641...   980805  ...   \n",
       "2  https://a0.muscache.com/pictures/2015102/18eea...   529105  ...   \n",
       "3  https://a0.muscache.com/pictures/miso/Hosting-...    99249  ...   \n",
       "4  https://a0.muscache.com/pictures/2421b3ee-0f2e...   999125  ...   \n",
       "\n",
       "  review_scores_communication review_scores_location review_scores_value  \\\n",
       "0                        4.90                   4.77                4.65   \n",
       "1                        4.97                   4.95                4.73   \n",
       "2                        4.94                   4.85                4.68   \n",
       "3                        4.90                   4.97                4.56   \n",
       "4                        4.91                   4.95                4.44   \n",
       "\n",
       "  license instant_bookable calculated_host_listings_count  \\\n",
       "0     NaN                f                              1   \n",
       "1     NaN                f                              6   \n",
       "2     NaN                f                              3   \n",
       "3     NaN                f                              3   \n",
       "4     NaN                f                              1   \n",
       "\n",
       "  calculated_host_listings_count_entire_homes  \\\n",
       "0                                           1   \n",
       "1                                           4   \n",
       "2                                           3   \n",
       "3                                           3   \n",
       "4                                           1   \n",
       "\n",
       "  calculated_host_listings_count_private_rooms  \\\n",
       "0                                            0   \n",
       "1                                            2   \n",
       "2                                            0   \n",
       "3                                            0   \n",
       "4                                            0   \n",
       "\n",
       "  calculated_host_listings_count_shared_rooms reviews_per_month  \n",
       "0                                           0              1.86  \n",
       "1                                           0              1.45  \n",
       "2                                           0              1.58  \n",
       "3                                           0              0.56  \n",
       "4                                           0              0.36  \n",
       "\n",
       "[5 rows x 75 columns]"
      ]
     },
     "execution_count": 10,
     "metadata": {},
     "output_type": "execute_result"
    }
   ],
   "source": [
    "df.head()"
   ]
  },
  {
   "attachments": {},
   "cell_type": "markdown",
   "metadata": {},
   "source": [
    "### Dicionário"
   ]
  },
  {
   "cell_type": "code",
   "execution_count": 11,
   "metadata": {},
   "outputs": [
    {
     "data": {
      "text/plain": [
       "Index(['id', 'listing_url', 'scrape_id', 'last_scraped', 'source', 'name',\n",
       "       'description', 'neighborhood_overview', 'picture_url', 'host_id',\n",
       "       'host_url', 'host_name', 'host_since', 'host_location', 'host_about',\n",
       "       'host_response_time', 'host_response_rate', 'host_acceptance_rate',\n",
       "       'host_is_superhost', 'host_thumbnail_url', 'host_picture_url',\n",
       "       'host_neighbourhood', 'host_listings_count',\n",
       "       'host_total_listings_count', 'host_verifications',\n",
       "       'host_has_profile_pic', 'host_identity_verified', 'neighbourhood',\n",
       "       'neighbourhood_cleansed', 'neighbourhood_group_cleansed', 'latitude',\n",
       "       'longitude', 'property_type', 'room_type', 'accommodates', 'bathrooms',\n",
       "       'bathrooms_text', 'bedrooms', 'beds', 'amenities', 'price',\n",
       "       'minimum_nights', 'maximum_nights', 'minimum_minimum_nights',\n",
       "       'maximum_minimum_nights', 'minimum_maximum_nights',\n",
       "       'maximum_maximum_nights', 'minimum_nights_avg_ntm',\n",
       "       'maximum_nights_avg_ntm', 'calendar_updated', 'has_availability',\n",
       "       'availability_30', 'availability_60', 'availability_90',\n",
       "       'availability_365', 'calendar_last_scraped', 'number_of_reviews',\n",
       "       'number_of_reviews_ltm', 'number_of_reviews_l30d', 'first_review',\n",
       "       'last_review', 'review_scores_rating', 'review_scores_accuracy',\n",
       "       'review_scores_cleanliness', 'review_scores_checkin',\n",
       "       'review_scores_communication', 'review_scores_location',\n",
       "       'review_scores_value', 'license', 'instant_bookable',\n",
       "       'calculated_host_listings_count',\n",
       "       'calculated_host_listings_count_entire_homes',\n",
       "       'calculated_host_listings_count_private_rooms',\n",
       "       'calculated_host_listings_count_shared_rooms', 'reviews_per_month'],\n",
       "      dtype='object')"
      ]
     },
     "execution_count": 11,
     "metadata": {},
     "output_type": "execute_result"
    }
   ],
   "source": [
    "df.columns"
   ]
  },
  {
   "attachments": {},
   "cell_type": "markdown",
   "metadata": {},
   "source": [
    "## Análise dos dados"
   ]
  },
  {
   "cell_type": "code",
   "execution_count": 12,
   "metadata": {},
   "outputs": [
    {
     "name": "stdout",
     "output_type": "stream",
     "text": [
      "Quantidade de Entradas:\t 30476\n",
      "Quantidade de Variáveis:\t 75\n",
      "\n",
      "Tipo de dados das colunas\n"
     ]
    },
    {
     "data": {
      "text/plain": [
       "id                                                int64\n",
       "listing_url                                      object\n",
       "scrape_id                                         int64\n",
       "last_scraped                                     object\n",
       "source                                           object\n",
       "                                                 ...   \n",
       "calculated_host_listings_count                    int64\n",
       "calculated_host_listings_count_entire_homes       int64\n",
       "calculated_host_listings_count_private_rooms      int64\n",
       "calculated_host_listings_count_shared_rooms       int64\n",
       "reviews_per_month                               float64\n",
       "Length: 75, dtype: object"
      ]
     },
     "metadata": {},
     "output_type": "display_data"
    }
   ],
   "source": [
    "# identificar o volume de dados do DataFrame\n",
    "print(\"Quantidade de Entradas:\\t {}\".format(df.shape[0]))\n",
    "print(\"Quantidade de Variáveis:\\t {}\\n\".format(df.shape[1]))\n",
    "\n",
    "# verificar as 5 primeiras entradas do dataset\n",
    "print(\"Tipo de dados das colunas\")\n",
    "display(df.dtypes)"
   ]
  },
  {
   "attachments": {},
   "cell_type": "markdown",
   "metadata": {},
   "source": [
    "### Conclusão"
   ]
  },
  {
   "attachments": {},
   "cell_type": "markdown",
   "metadata": {},
   "source": [
    "O Dataset possui 75 variáveis e 30476 rgistros/entradas. "
   ]
  },
  {
   "attachments": {},
   "cell_type": "markdown",
   "metadata": {},
   "source": [
    "## Porcentagem os valores ausentes"
   ]
  },
  {
   "cell_type": "code",
   "execution_count": 16,
   "metadata": {},
   "outputs": [
    {
     "data": {
      "text/plain": [
       "id                                                 0\n",
       "listing_url                                        0\n",
       "scrape_id                                          0\n",
       "last_scraped                                       0\n",
       "source                                             0\n",
       "                                                ... \n",
       "calculated_host_listings_count                     0\n",
       "calculated_host_listings_count_entire_homes        0\n",
       "calculated_host_listings_count_private_rooms       0\n",
       "calculated_host_listings_count_shared_rooms        0\n",
       "reviews_per_month                               7504\n",
       "Length: 75, dtype: int64"
      ]
     },
     "execution_count": 16,
     "metadata": {},
     "output_type": "execute_result"
    }
   ],
   "source": [
    "df.isnull().sum()"
   ]
  },
  {
   "cell_type": "code",
   "execution_count": 18,
   "metadata": {},
   "outputs": [
    {
     "data": {
      "text/plain": [
       "id                                              0.000000\n",
       "listing_url                                     0.000000\n",
       "scrape_id                                       0.000000\n",
       "last_scraped                                    0.000000\n",
       "source                                          0.000000\n",
       "                                                  ...   \n",
       "calculated_host_listings_count                  0.000000\n",
       "calculated_host_listings_count_entire_homes     0.000000\n",
       "calculated_host_listings_count_private_rooms    0.000000\n",
       "calculated_host_listings_count_shared_rooms     0.000000\n",
       "reviews_per_month                               0.246227\n",
       "Length: 75, dtype: float64"
      ]
     },
     "execution_count": 18,
     "metadata": {},
     "output_type": "execute_result"
    }
   ],
   "source": [
    "df.isnull().sum() / df.shape[0]"
   ]
  },
  {
   "cell_type": "code",
   "execution_count": 24,
   "metadata": {},
   "outputs": [
    {
     "data": {
      "text/plain": [
       "license                         1.000000\n",
       "neighbourhood_group_cleansed    1.000000\n",
       "bathrooms                       1.000000\n",
       "calendar_updated                1.000000\n",
       "host_about                      0.519261\n",
       "                                  ...   \n",
       "maximum_nights_avg_ntm          0.000000\n",
       "host_verifications              0.000000\n",
       "has_availability                0.000000\n",
       "availability_30                 0.000000\n",
       "id                              0.000000\n",
       "Length: 75, dtype: float64"
      ]
     },
     "execution_count": 24,
     "metadata": {},
     "output_type": "execute_result"
    }
   ],
   "source": [
    "(df.isnull().sum() / df.shape[0]).sort_values(ascending=False)"
   ]
  },
  {
   "cell_type": "code",
   "execution_count": 28,
   "metadata": {},
   "outputs": [
    {
     "data": {
      "text/plain": [
       "host_name    0.000098\n",
       "dtype: float64"
      ]
     },
     "execution_count": 28,
     "metadata": {},
     "output_type": "execute_result"
    }
   ],
   "source": [
    "(df[['host_name']].isnull().sum() / df.shape[0]).sort_values()"
   ]
  },
  {
   "cell_type": "code",
   "execution_count": 29,
   "metadata": {},
   "outputs": [
    {
     "data": {
      "text/plain": [
       "name    0.000591\n",
       "dtype: float64"
      ]
     },
     "execution_count": 29,
     "metadata": {},
     "output_type": "execute_result"
    }
   ],
   "source": [
    "(df[['name']].isnull().sum() / df.shape[0]).sort_values()"
   ]
  },
  {
   "cell_type": "code",
   "execution_count": 30,
   "metadata": {},
   "outputs": [],
   "source": [
    "# eliminar todas as entradas onde existam valores ausentes em `host_name`\n",
    "df_row_dropna = df.dropna(subset=['host_name'], axis=0)\n",
    "\n",
    "# eliminar todas as entradas onde existam valores ausentes em `name`\n",
    "df_row_dropna = df.dropna(subset=['name'], axis=0)"
   ]
  },
  {
   "attachments": {},
   "cell_type": "markdown",
   "metadata": {},
   "source": [
    "### Conclusões"
   ]
  },
  {
   "attachments": {},
   "cell_type": "markdown",
   "metadata": {},
   "source": [
    "- As colunas license, neighbourhood_group_cleansed, bathrooms,calendar_updated possui 100% dos seus valores faltantes. \n",
    "- A coluna reviews_per_month possui 24,63% de seus valores faltantes. Essa coluna se refere aos comentários feitos no mês. Portanto, algumas acomodações nao receberam avaliações e/ou as acomodações ainda não receberam reservas.\n",
    "- A coluna host_about possui 0,52% dos valores faltantes.\n",
    "\n",
    "- A coluna host_name e name não possuem muita representatividade de valores nulos em nosso dataset. "
   ]
  },
  {
   "attachments": {},
   "cell_type": "markdown",
   "metadata": {},
   "source": [
    "Ao comparar os valores de antes e depois da eliminação de valores ausentes em host_name, temos:"
   ]
  },
  {
   "cell_type": "code",
   "execution_count": 33,
   "metadata": {},
   "outputs": [
    {
     "name": "stdout",
     "output_type": "stream",
     "text": [
      "Antes:\t(30476, 75)\n",
      "Depois:\t(30458, 75)\n",
      "Diferença:\t18\n"
     ]
    }
   ],
   "source": [
    "# comparar o antes e o depois de `host_name`\n",
    "print(\"Antes:\\t{}\".format(df.shape))\n",
    "print(\"Depois:\\t{}\".format(df_row_dropna.shape))\n",
    "print(\"Diferença:\\t{}\".format(df.shape[0] - df_row_dropna.shape[0]))"
   ]
  },
  {
   "attachments": {},
   "cell_type": "markdown",
   "metadata": {},
   "source": [
    "## Quantidade de valores nulos em cada coluna"
   ]
  },
  {
   "cell_type": "code",
   "execution_count": 34,
   "metadata": {},
   "outputs": [
    {
     "data": {
      "text/plain": [
       "id                                                 0\n",
       "listing_url                                        0\n",
       "scrape_id                                          0\n",
       "last_scraped                                       0\n",
       "source                                             0\n",
       "                                                ... \n",
       "calculated_host_listings_count                     0\n",
       "calculated_host_listings_count_entire_homes        0\n",
       "calculated_host_listings_count_private_rooms       0\n",
       "calculated_host_listings_count_shared_rooms        0\n",
       "reviews_per_month                               7504\n",
       "Length: 75, dtype: int64"
      ]
     },
     "execution_count": 34,
     "metadata": {},
     "output_type": "execute_result"
    }
   ],
   "source": [
    "df.isnull().sum()"
   ]
  },
  {
   "attachments": {},
   "cell_type": "markdown",
   "metadata": {},
   "source": [
    "Criando um histograma para visualizar essas informações:"
   ]
  },
  {
   "cell_type": "code",
   "execution_count": 35,
   "metadata": {},
   "outputs": [
    {
     "data": {
      "image/png": "[encoded data removed]",
      "text/plain": [
       "<Figure size 1500x1000 with 1 Axes>"
      ]
     },
     "metadata": {},
     "output_type": "display_data"
    }
   ],
   "source": [
    "import matplotlib.pyplot as plt\n",
    "\n",
    "%matplotlib inline\n",
    "\n",
    "# plotar o histograma das variáveis numéricas\n",
    "df.isnull().sum().hist(bins=15, figsize=(15,10), color = \"#CD853F\");"
   ]
  },
  {
   "attachments": {},
   "cell_type": "markdown",
   "metadata": {},
   "source": [
    "## Calculo da média dos preços de aluguel"
   ]
  },
  {
   "cell_type": "code",
   "execution_count": 36,
   "metadata": {},
   "outputs": [
    {
     "data": {
      "text/plain": [
       "0          $350.00\n",
       "1          $100.00\n",
       "2          $266.00\n",
       "3          $624.00\n",
       "4        $1,899.00\n",
       "           ...    \n",
       "30471      $242.00\n",
       "30472      $118.00\n",
       "30473    $1,126.00\n",
       "30474    $1,126.00\n",
       "30475      $839.00\n",
       "Name: price, Length: 30476, dtype: object"
      ]
     },
     "execution_count": 36,
     "metadata": {},
     "output_type": "execute_result"
    }
   ],
   "source": [
    "df['price']"
   ]
  },
  {
   "cell_type": "code",
   "execution_count": 37,
   "metadata": {},
   "outputs": [
    {
     "data": {
      "text/plain": [
       "count       30476\n",
       "unique       2086\n",
       "top       $300.00\n",
       "freq          710\n",
       "Name: price, dtype: object"
      ]
     },
     "execution_count": 37,
     "metadata": {},
     "output_type": "execute_result"
    }
   ],
   "source": [
    "df['price'].describe()"
   ]
  },
  {
   "attachments": {},
   "cell_type": "markdown",
   "metadata": {},
   "source": [
    "## Tipo de imóvel mais alugado no Rio de Janeiro"
   ]
  },
  {
   "attachments": {},
   "cell_type": "markdown",
   "metadata": {},
   "source": [
    "Exibindo esses valores em porcentagem:"
   ]
  },
  {
   "cell_type": "code",
   "execution_count": 41,
   "metadata": {},
   "outputs": [
    {
     "data": {
      "text/plain": [
       "Entire home/apt    23753\n",
       "Private room        6167\n",
       "Shared room          504\n",
       "Hotel room            52\n",
       "Name: room_type, dtype: int64"
      ]
     },
     "execution_count": 41,
     "metadata": {},
     "output_type": "execute_result"
    }
   ],
   "source": [
    "# mostrar a porcentagem de cada tipo de imóvel disponível\n",
    "tipos = df.room_type.value_counts()\n",
    "tipos"
   ]
  },
  {
   "cell_type": "code",
   "execution_count": 42,
   "metadata": {},
   "outputs": [
    {
     "data": {
      "text/html": [
       "<style type=\"text/css\">\n",
       "</style>\n",
       "<table id=\"T_fdff0\">\n",
       "  <thead>\n",
       "    <tr>\n",
       "      <th class=\"blank level0\" >&nbsp;</th>\n",
       "      <th id=\"T_fdff0_level0_col0\" class=\"col_heading level0 col0\" >room_type</th>\n",
       "    </tr>\n",
       "  </thead>\n",
       "  <tbody>\n",
       "    <tr>\n",
       "      <th id=\"T_fdff0_level0_row0\" class=\"row_heading level0 row0\" >Entire home/apt</th>\n",
       "      <td id=\"T_fdff0_row0_col0\" class=\"data row0 col0\" >77.94%</td>\n",
       "    </tr>\n",
       "    <tr>\n",
       "      <th id=\"T_fdff0_level0_row1\" class=\"row_heading level0 row1\" >Private room</th>\n",
       "      <td id=\"T_fdff0_row1_col0\" class=\"data row1 col0\" >20.24%</td>\n",
       "    </tr>\n",
       "    <tr>\n",
       "      <th id=\"T_fdff0_level0_row2\" class=\"row_heading level0 row2\" >Shared room</th>\n",
       "      <td id=\"T_fdff0_row2_col0\" class=\"data row2 col0\" >1.65%</td>\n",
       "    </tr>\n",
       "    <tr>\n",
       "      <th id=\"T_fdff0_level0_row3\" class=\"row_heading level0 row3\" >Hotel room</th>\n",
       "      <td id=\"T_fdff0_row3_col0\" class=\"data row3 col0\" >0.17%</td>\n",
       "    </tr>\n",
       "  </tbody>\n",
       "</table>\n"
      ],
      "text/plain": [
       "<pandas.io.formats.style.Styler at 0x1b9332c7970>"
      ]
     },
     "execution_count": 42,
     "metadata": {},
     "output_type": "execute_result"
    }
   ],
   "source": [
    "quarto_percentual = tipos / df.shape[0];\n",
    "pd.DataFrame(quarto_percentual).style.format('{:.2%}')"
   ]
  },
  {
   "attachments": {},
   "cell_type": "markdown",
   "metadata": {},
   "source": [
    "Portanto, dos imóveis disponíveis no Dataframe da cidade do Rio de Janeiro, aproximanente:\n",
    "- 77.94% são de cadas ou apartamento alugados\n",
    "- 20.24% são de quartos privativos\n",
    "- 1.65% são de quartos compartilhados\n",
    "- 0.17% são quartos de hotel"
   ]
  }
 ],
 "metadata": {
  "kernelspec": {
   "display_name": "Python 3",
   "language": "python",
   "name": "python3"
  },
  "language_info": {
   "codemirror_mode": {
    "name": "ipython",
    "version": 3
   },
   "file_extension": ".py",
   "mimetype": "text/x-python",
   "name": "python",
   "nbconvert_exporter": "python",
   "pygments_lexer": "ipython3",
   "version": "3.10.5"
  },
  "orig_nbformat": 4
 },
 "nbformat": 4,
 "nbformat_minor": 2
}
